{
 "cells": [
  {
   "cell_type": "code",
   "execution_count": 34,
   "id": "49e52050",
   "metadata": {},
   "outputs": [],
   "source": [
    "import sqlite3"
   ]
  },
  {
   "cell_type": "code",
   "execution_count": 35,
   "id": "b285e47c",
   "metadata": {},
   "outputs": [],
   "source": [
    "# define connection \n",
    "connection = sqlite3.connect('sqlite_db_pythonsqlite.db')"
   ]
  },
  {
   "cell_type": "code",
   "execution_count": 36,
   "id": "eaad34f0",
   "metadata": {},
   "outputs": [],
   "source": [
    "#create cursor object\n",
    "cursor = connection.cursor()"
   ]
  },
  {
   "cell_type": "code",
   "execution_count": 37,
   "id": "75f7866b",
   "metadata": {},
   "outputs": [],
   "source": [
    "#Q10: Produce a list of facilities with a total revenue less than 1000.\n",
    "#The output of facility name and total revenue, sorted by revenue. Remember\n",
    "# that there's a different cost for guests and members!\n",
    "command1 = \"\"\"SELECT f.name, SUM(CASE WHEN m.memid = 0 THEN (f.guestcost*b.slots)\n",
    "                ELSE f.membercost*b.slots END) AS total_revenue\n",
    "            FROM Members AS m\n",
    "            INNER JOIN Bookings AS b ON m.memid = b.memid\n",
    "            INNER JOIN Facilities AS f ON b.facid = f.facid\n",
    "            GROUP BY f.name\n",
    "            HAVING total_revenue < 1000\n",
    "            ORDER BY total_revenue;\"\"\""
   ]
  },
  {
   "cell_type": "code",
   "execution_count": 38,
   "id": "6f097215",
   "metadata": {},
   "outputs": [
    {
     "name": "stdout",
     "output_type": "stream",
     "text": [
      "[('Table Tennis', 180), ('Snooker Table', 240), ('Pool Table', 270)]\n"
     ]
    }
   ],
   "source": [
    "cursor.execute(command1)\n",
    "results1 = cursor.fetchall()\n",
    "print(results1)"
   ]
  },
  {
   "cell_type": "code",
   "execution_count": 39,
   "id": "67aa46ff",
   "metadata": {},
   "outputs": [],
   "source": [
    "#Q11: Produce a report of members and who recommended them in alphabetic surname,firstname order\n",
    "command2 = \"\"\"SELECT mem.surname || ', ' || mem.firstname AS name, rec.surname ||', '|| rec.firstname AS recommended_by\n",
    "FROM Members AS mem\n",
    "INNER JOIN Members AS rec \n",
    "ON mem.memid = rec.recommendedby\n",
    "WHERE mem.surname NOT IN ('Guest')\n",
    "GROUP BY name\n",
    "ORDER BY mem.surname;\"\"\""
   ]
  },
  {
   "cell_type": "code",
   "execution_count": 40,
   "id": "d565752d",
   "metadata": {},
   "outputs": [
    {
     "name": "stdout",
     "output_type": "stream",
     "text": [
      "[('Bader, Florence', 'Sarwin, Ramnaresh'), ('Baker, Timothy', 'Coplin, Joan'), ('Butters, Gerald', 'Genting, Matthew'), ('Farrell, Jemima', 'Baker, Timothy'), ('Genting, Matthew', 'Rumney, Henrietta'), ('Jones, David', 'Jones, Douglas'), ('Joplette, Janice', 'Dare, Nancy'), ('Purview, Millicent', 'Hunt, John'), ('Rownam, Tim', 'Boothe, Tim'), ('Smith, Darren', 'Joplette, Janice'), ('Smith, Tracy', 'Worthington-Smyth, Henry'), ('Stibbons, Ponder', 'Baker, Anne'), ('Tracy, Burton', 'Stibbons, Ponder')]\n"
     ]
    }
   ],
   "source": [
    "cursor.execute(command2)\n",
    "results2 = cursor.fetchall()\n",
    "print(results2)"
   ]
  },
  {
   "cell_type": "code",
   "execution_count": 41,
   "id": "8e79450b",
   "metadata": {},
   "outputs": [],
   "source": [
    "#Q12: Find the facilities with their usage by member, but not guests\n",
    "command3 = \"\"\"SELECT f.name, COUNT(b.bookid) AS total_bookings\n",
    "FROM Bookings AS b\n",
    "LEFT JOIN Facilities AS f ON b.facid = f.facid\n",
    "WHERE memid <> 0\n",
    "GROUP BY f.name;\"\"\""
   ]
  },
  {
   "cell_type": "code",
   "execution_count": 42,
   "id": "cfb7ab55",
   "metadata": {},
   "outputs": [
    {
     "name": "stdout",
     "output_type": "stream",
     "text": [
      "[('Badminton Court', 344), ('Massage Room 1', 421), ('Massage Room 2', 27), ('Pool Table', 783), ('Snooker Table', 421), ('Squash Court', 195), ('Table Tennis', 385), ('Tennis Court 1', 308), ('Tennis Court 2', 276)]\n"
     ]
    }
   ],
   "source": [
    "cursor.execute(command3)\n",
    "results3 = cursor.fetchall()\n",
    "print(results3)"
   ]
  },
  {
   "cell_type": "code",
   "execution_count": 43,
   "id": "ce242da4",
   "metadata": {},
   "outputs": [],
   "source": [
    "#Q13: Find the facilities usage by month, but not guests\n",
    "command4 = \"\"\"SELECT f.name || ', ' || strftime('%m',starttime), COUNT(b.bookid) AS total_bookings_per_month\n",
    "FROM Bookings AS b\n",
    "LEFT JOIN Facilities AS f ON b.facid = f.facid\n",
    "WHERE memid <> 0\n",
    "GROUP BY f.name, strftime('%m',starttime);\"\"\""
   ]
  },
  {
   "cell_type": "code",
   "execution_count": 44,
   "id": "2f222704",
   "metadata": {},
   "outputs": [
    {
     "name": "stdout",
     "output_type": "stream",
     "text": [
      "[('Badminton Court, 07', 51), ('Badminton Court, 08', 132), ('Badminton Court, 09', 161), ('Massage Room 1, 07', 77), ('Massage Room 1, 08', 153), ('Massage Room 1, 09', 191), ('Massage Room 2, 07', 4), ('Massage Room 2, 08', 9), ('Massage Room 2, 09', 14), ('Pool Table, 07', 103), ('Pool Table, 08', 272), ('Pool Table, 09', 408), ('Snooker Table, 07', 68), ('Snooker Table, 08', 154), ('Snooker Table, 09', 199), ('Squash Court, 07', 23), ('Squash Court, 08', 85), ('Squash Court, 09', 87), ('Table Tennis, 07', 48), ('Table Tennis, 08', 143), ('Table Tennis, 09', 194), ('Tennis Court 1, 07', 65), ('Tennis Court 1, 08', 111), ('Tennis Court 1, 09', 132), ('Tennis Court 2, 07', 41), ('Tennis Court 2, 08', 109), ('Tennis Court 2, 09', 126)]\n"
     ]
    }
   ],
   "source": [
    "cursor.execute(command4)\n",
    "results4 = cursor.fetchall()\n",
    "print(results4)"
   ]
  },
  {
   "cell_type": "code",
   "execution_count": 45,
   "id": "cbefafcf",
   "metadata": {},
   "outputs": [],
   "source": [
    "#close cursor and connection to db when finished\n",
    "cursor.close()\n",
    "connection.close()"
   ]
  }
 ],
 "metadata": {
  "kernelspec": {
   "display_name": "Python 3 (ipykernel)",
   "language": "python",
   "name": "python3"
  },
  "language_info": {
   "codemirror_mode": {
    "name": "ipython",
    "version": 3
   },
   "file_extension": ".py",
   "mimetype": "text/x-python",
   "name": "python",
   "nbconvert_exporter": "python",
   "pygments_lexer": "ipython3",
   "version": "3.9.7"
  }
 },
 "nbformat": 4,
 "nbformat_minor": 5
}
